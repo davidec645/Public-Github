{
 "cells": [
  {
   "cell_type": "code",
   "execution_count": 55,
   "metadata": {},
   "outputs": [],
   "source": [
    "import tensorflow as tf\n",
    "import numpy as np\n",
    "import pandas as pd\n",
    "import pickle"
   ]
  },
  {
   "cell_type": "code",
   "execution_count": 56,
   "metadata": {},
   "outputs": [],
   "source": [
    "# load saved model\n",
    "with open('model_pkl' , 'rb') as f:\n",
    "    model = pickle.load(f)"
   ]
  },
  {
   "cell_type": "code",
   "execution_count": 58,
   "metadata": {},
   "outputs": [
    {
     "name": "stdout",
     "output_type": "stream",
     "text": [
      "(645, 9)\n"
     ]
    },
    {
     "name": "stderr",
     "output_type": "stream",
     "text": [
      "/var/folders/70/ysch_yh10pz6qzjj3fsh3lfc0000gn/T/ipykernel_96894/3214772574.py:14: SettingWithCopyWarning: \n",
      "A value is trying to be set on a copy of a slice from a DataFrame\n",
      "\n",
      "See the caveats in the documentation: https://pandas.pydata.org/pandas-docs/stable/user_guide/indexing.html#returning-a-view-versus-a-copy\n",
      "  df.dropna(axis = 0, how = 'any', inplace = True)\n"
     ]
    }
   ],
   "source": [
    "year = str(2018)\n",
    "feature_df = pd.read_csv('feature_df'+year+'.csv')\n",
    "df = feature_df[['away_past_average_yards/play',\n",
    "'home_past_average_yards/play',\n",
    "'away_past_starting_yard_line',\n",
    "'home_past_starting_yard_line',\n",
    "'away_schedule_strength',\n",
    "'home_schedule_strength',\n",
    "'spread', \n",
    "'margin',\n",
    "'id']]\n",
    "\n",
    "\n",
    "df.dropna(axis = 0, how = 'any', inplace = True)\n",
    "df\n",
    "\n",
    "labels = df.pop('margin')\n",
    "#labels = labels.pop('margin_transform')\n",
    "\n",
    "s_1 = df.pop('away_past_average_yards/play')\n",
    "s_2 = df.pop('home_past_average_yards/play')\n",
    "s_3 = df.pop('away_past_starting_yard_line')\n",
    "s_4 = df.pop('home_past_starting_yard_line')\n",
    "s_5 = df.pop('away_schedule_strength')\n",
    "s_6 = df.pop('home_schedule_strength')\n",
    "s_9 = df.pop('spread')*-1\n",
    "s_10 = df.pop('id')\n",
    "\n",
    "feature_df = pd.DataFrame()\n",
    "feature_df = pd.concat([s_1, s_2, s_3, s_4, s_5, s_6,s_9,s_10, labels], axis=1).reset_index()\n",
    "feature_df = feature_df.drop( 'index', axis = 1)\n",
    "feature_df = np.array(feature_df)\n",
    "\n",
    "#s_3 = df.pop(\"home_points\")\n",
    "#s_4 = df.pop(\"away_points\")\n",
    "\n",
    "\n",
    "#margin = df.pop('margin')\n",
    "#validate_df = pd.concat([s_3,s_4,margin],axis = 1)\n",
    "#validate_df = np.array(validate_df)\n",
    "\n",
    "\n",
    "x_train = feature_df[:,[0,1,2,3,4,5,6]]\n",
    "y_train = feature_df[:,8]\n",
    "train_spread = feature_df[:,[6]]\n",
    "train_id = feature_df[:,7]\n",
    "\n",
    "#x_test = test[:,[0,1,2,3,4,5,6]]\n",
    "#y_test = test[:,8]\n",
    "#test_spread = test[:,[6]]\n",
    "#test_id = test[:,7]\n",
    "\n",
    "y_train = y_train*.01\n",
    "#y_test = y_test*.01\n",
    "print(np.shape(feature_df))\n",
    "np_shape = np.shape(feature_df)"
   ]
  },
  {
   "cell_type": "code",
   "execution_count": 59,
   "metadata": {},
   "outputs": [],
   "source": [
    "#Evaluate for profitability\n",
    "def get_profit(profit_arr):\n",
    "    profit = 0\n",
    "    for i in range(len(profit_arr)):\n",
    "        game = profit_arr[i]\n",
    "        if (game[1] < game[2]):\n",
    "            if game[0] < game[2]:\n",
    "                profit = profit + .9\n",
    "            else:\n",
    "                profit = profit - 1\n",
    "        else:\n",
    "            if game[0] > game[2]:\n",
    "                profit = profit + .9\n",
    "            else:\n",
    "                profit = profit - 1\n",
    "        \n",
    "    \n",
    "   \n",
    "    return(profit)\n",
    "\n",
    "def get_profit_2(profit_arr,br):\n",
    "    profit = br\n",
    "    \n",
    "    for i in range(len(profit_arr)):\n",
    "        unit = profit*.05\n",
    "        game = profit_arr[i]\n",
    "        if (game[1] < game[2]):\n",
    "            if game[0] < game[2]:\n",
    "                profit = profit + (unit*.9)\n",
    "                \n",
    "            else:\n",
    "                profit = profit - unit\n",
    "        else:\n",
    "            if game[0] > game[2]:\n",
    "                profit = profit + (unit*.9)\n",
    "            else:\n",
    "                profit = profit - unit\n",
    "        \n",
    "    \n",
    "   \n",
    "    return(print(profit-br))"
   ]
  },
  {
   "cell_type": "code",
   "execution_count": 61,
   "metadata": {},
   "outputs": [
    {
     "name": "stdout",
     "output_type": "stream",
     "text": [
      "21/21 [==============================] - 0s 3ms/step\n",
      "\n",
      "% of correct winning team\n",
      "0.751937984496124\n",
      "\n",
      "Mean\n",
      "-0.009793808389195175\n",
      "\n",
      "Standard Deviation\n",
      "0.15796989566356798\n",
      "\n",
      "Total Profit\n",
      "-75.00000000000023\n"
     ]
    }
   ],
   "source": [
    "\n",
    "prediction = model.predict(x_train)\n",
    "spread = train_spread\n",
    "spread = np.reshape(spread, (np_shape[0],1))\n",
    "spread = spread*.01\n",
    "print()\n",
    "z = np.array([(y_train)])\n",
    "z = z.swapaxes(0,1)\n",
    "\n",
    "actual_scores = z\n",
    "actual_vs_pred = np.concatenate((z, prediction), axis = 1)\n",
    "profit_arr = np.concatenate((actual_vs_pred, spread), axis = 1)\n",
    "correct_win = (np.sign(actual_scores) == np.sign(prediction))\n",
    "difference = actual_scores-prediction\n",
    "print(\"% of correct winning team\")\n",
    "print(correct_win.sum()/correct_win.size)\n",
    "win_percent = correct_win.sum()/correct_win.size\n",
    "print()\n",
    "print(\"Mean\")\n",
    "mean = difference.mean()\n",
    "print(difference.mean())\n",
    "print()\n",
    "print(\"Standard Deviation\")\n",
    "print(difference.std())\n",
    "sd = difference.std()\n",
    "print(\"\")\n",
    "print(\"Total Profit\")\n",
    "profit = get_profit(profit_arr)\n",
    "print(profit)\n"
   ]
  },
  {
   "cell_type": "code",
   "execution_count": 38,
   "metadata": {},
   "outputs": [],
   "source": [
    "export = pd.DataFrame(profit_arr)\n",
    "export.to_csv('/Users/davidchristensen/Documents/Data Projects/Python/Sport_Analysis/double_check'+year+'.csv')"
   ]
  }
 ],
 "metadata": {
  "kernelspec": {
   "display_name": "Python 3.10.4 ('env_tf')",
   "language": "python",
   "name": "python3"
  },
  "language_info": {
   "codemirror_mode": {
    "name": "ipython",
    "version": 3
   },
   "file_extension": ".py",
   "mimetype": "text/x-python",
   "name": "python",
   "nbconvert_exporter": "python",
   "pygments_lexer": "ipython3",
   "version": "3.10.4"
  },
  "orig_nbformat": 4,
  "vscode": {
   "interpreter": {
    "hash": "7fabfb4dab905e6442ff44b83bc0fe2db5d93501037ec147ede1d02d4a789244"
   }
  }
 },
 "nbformat": 4,
 "nbformat_minor": 2
}
