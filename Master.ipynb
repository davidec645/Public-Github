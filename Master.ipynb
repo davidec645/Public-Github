{
 "cells": [
  {
   "cell_type": "markdown",
   "metadata": {},
   "source": [
    "# Import Functions"
   ]
  },
  {
   "cell_type": "code",
   "execution_count": 1,
   "metadata": {},
   "outputs": [],
   "source": [
    "from ipynb.fs.full.Data_Extract import get_play_df\n",
    "from ipynb.fs.full.Data_Extract import get_ranking_df\n",
    "from ipynb.fs.full.Data_Extract import get_game_df\n",
    "from ipynb.fs.full.Data_Extract import get_drive_df\n",
    "from ipynb.fs.full.Data_Cleaning import get_feature_df\n",
    "from ipynb.fs.full.Sports_NN import train_NN\n",
    "from ipynb.fs.full.Linear_Regression import get_lm_model\n",
    "from IPython.display import display"
   ]
  },
  {
   "cell_type": "markdown",
   "metadata": {},
   "source": [
    "# Wrangle\n"
   ]
  },
  {
   "cell_type": "code",
   "execution_count": 2,
   "metadata": {},
   "outputs": [],
   "source": [
    "year = 2017\n",
    "\n",
    "#import raw data from the Data_Extract notebook\n",
    "play_df = get_play_df(year)\n",
    "ranking_df = get_ranking_df(year)\n",
    "game_df = get_game_df(year)\n",
    "drive_df = get_drive_df(year)\n"
   ]
  },
  {
   "cell_type": "code",
   "execution_count": 3,
   "metadata": {},
   "outputs": [
    {
     "name": "stderr",
     "output_type": "stream",
     "text": [
      "/Users/davidchristensen/Desktop/Public Github/Data_Cleaning.ipynb:63: SettingWithCopyWarning: \n",
      "A value is trying to be set on a copy of a slice from a DataFrame.\n",
      "Try using .loc[row_indexer,col_indexer] = value instead\n",
      "\n",
      "See the caveats in the documentation: https://pandas.pydata.org/pandas-docs/stable/user_guide/indexing.html#returning-a-view-versus-a-copy\n",
      "  \"source\": [\n",
      "/Users/davidchristensen/Desktop/Public Github/Data_Cleaning.ipynb:64: SettingWithCopyWarning: \n",
      "A value is trying to be set on a copy of a slice from a DataFrame.\n",
      "Try using .loc[row_indexer,col_indexer] = value instead\n",
      "\n",
      "See the caveats in the documentation: https://pandas.pydata.org/pandas-docs/stable/user_guide/indexing.html#returning-a-view-versus-a-copy\n",
      "  \"def get_feature_df(play_df, ranking_df, game_df, drive_df):\\n\",\n",
      "/Users/davidchristensen/Desktop/Public Github/Data_Cleaning.ipynb:68: SettingWithCopyWarning: \n",
      "A value is trying to be set on a copy of a slice from a DataFrame.\n",
      "Try using .loc[row_indexer,col_indexer] = value instead\n",
      "\n",
      "See the caveats in the documentation: https://pandas.pydata.org/pandas-docs/stable/user_guide/indexing.html#returning-a-view-versus-a-copy\n",
      "  \"        play_df\\n\",\n",
      "/Users/davidchristensen/Desktop/Public Github/Data_Cleaning.ipynb:127: SettingWithCopyWarning: \n",
      "A value is trying to be set on a copy of a slice from a DataFrame.\n",
      "Try using .loc[row_indexer,col_indexer] = value instead\n",
      "\n",
      "See the caveats in the documentation: https://pandas.pydata.org/pandas-docs/stable/user_guide/indexing.html#returning-a-view-versus-a-copy\n",
      "  \"        else: return \\\"NA\\\"\\n\",\n",
      "/Users/davidchristensen/Desktop/Public Github/Data_Cleaning.ipynb:128: SettingWithCopyWarning: \n",
      "A value is trying to be set on a copy of a slice from a DataFrame.\n",
      "Try using .loc[row_indexer,col_indexer] = value instead\n",
      "\n",
      "See the caveats in the documentation: https://pandas.pydata.org/pandas-docs/stable/user_guide/indexing.html#returning-a-view-versus-a-copy\n",
      "  \"        \\n\",\n",
      "/Users/davidchristensen/Desktop/Public Github/Data_Cleaning.ipynb:152: SettingWithCopyWarning: \n",
      "A value is trying to be set on a copy of a slice from a DataFrame.\n",
      "Try using .loc[row_indexer,col_indexer] = value instead\n",
      "\n",
      "See the caveats in the documentation: https://pandas.pydata.org/pandas-docs/stable/user_guide/indexing.html#returning-a-view-versus-a-copy\n",
      "  \"        if len(away_average_yards) > 0: \\n\",\n",
      "/Users/davidchristensen/Desktop/Public Github/Data_Cleaning.ipynb:153: SettingWithCopyWarning: \n",
      "A value is trying to be set on a copy of a slice from a DataFrame.\n",
      "Try using .loc[row_indexer,col_indexer] = value instead\n",
      "\n",
      "See the caveats in the documentation: https://pandas.pydata.org/pandas-docs/stable/user_guide/indexing.html#returning-a-view-versus-a-copy\n",
      "  \"            return  sum(away_average_yards)/len(away_average_yards)\\n\",\n",
      "/Users/davidchristensen/Desktop/Public Github/Data_Cleaning.ipynb:208: SettingWithCopyWarning: \n",
      "A value is trying to be set on a copy of a slice from a DataFrame.\n",
      "Try using .loc[row_indexer,col_indexer] = value instead\n",
      "\n",
      "See the caveats in the documentation: https://pandas.pydata.org/pandas-docs/stable/user_guide/indexing.html#returning-a-view-versus-a-copy\n",
      "  \"        home_average_yards = past_home_home_games[\\\"home_avg_starting_yardline\\\"].to_list() + past_home_away_games[\\\"away_avg_starting_yardline\\\"].to_list()\\n\",\n",
      "/Users/davidchristensen/Desktop/Public Github/Data_Cleaning.ipynb:211: SettingWithCopyWarning: \n",
      "A value is trying to be set on a copy of a slice from a DataFrame.\n",
      "Try using .loc[row_indexer,col_indexer] = value instead\n",
      "\n",
      "See the caveats in the documentation: https://pandas.pydata.org/pandas-docs/stable/user_guide/indexing.html#returning-a-view-versus-a-copy\n",
      "  \"            return  sum(home_average_yards)/len(home_average_yards)\\n\",\n",
      "/Users/davidchristensen/Desktop/Public Github/Data_Cleaning.ipynb:249: SettingWithCopyWarning: \n",
      "A value is trying to be set on a copy of a slice from a DataFrame.\n",
      "Try using .loc[row_indexer,col_indexer] = value instead\n",
      "\n",
      "See the caveats in the documentation: https://pandas.pydata.org/pandas-docs/stable/user_guide/indexing.html#returning-a-view-versus-a-copy\n",
      "  \"\\n\",\n",
      "/Users/davidchristensen/Desktop/Public Github/Data_Cleaning.ipynb:250: SettingWithCopyWarning: \n",
      "A value is trying to be set on a copy of a slice from a DataFrame.\n",
      "Try using .loc[row_indexer,col_indexer] = value instead\n",
      "\n",
      "See the caveats in the documentation: https://pandas.pydata.org/pandas-docs/stable/user_guide/indexing.html#returning-a-view-versus-a-copy\n",
      "  \"        elo = ranking_df.loc[ranking_df['team'] == team]\\n\",\n",
      "/Users/davidchristensen/Desktop/Public Github/Data_Cleaning.ipynb:298: SettingWithCopyWarning: \n",
      "A value is trying to be set on a copy of a slice from a DataFrame.\n",
      "Try using .loc[row_indexer,col_indexer] = value instead\n",
      "\n",
      "See the caveats in the documentation: https://pandas.pydata.org/pandas-docs/stable/user_guide/indexing.html#returning-a-view-versus-a-copy\n",
      "  \"        \\n\",\n",
      "/Users/davidchristensen/Desktop/Public Github/Data_Cleaning.ipynb:302: SettingWithCopyWarning: \n",
      "A value is trying to be set on a copy of a slice from a DataFrame.\n",
      "Try using .loc[row_indexer,col_indexer] = value instead\n",
      "\n",
      "See the caveats in the documentation: https://pandas.pydata.org/pandas-docs/stable/user_guide/indexing.html#returning-a-view-versus-a-copy\n",
      "  \"        if len(away_schedule_strength) > 0: \\n\",\n"
     ]
    }
   ],
   "source": [
    "#transform into feature dataframe\n",
    "feature_df = get_feature_df(play_df, ranking_df, game_df, drive_df)"
   ]
  },
  {
   "cell_type": "markdown",
   "metadata": {},
   "source": [
    "# Train and Compare Models"
   ]
  },
  {
   "cell_type": "code",
   "execution_count": 5,
   "metadata": {},
   "outputs": [
    {
     "name": "stderr",
     "output_type": "stream",
     "text": [
      "2022-08-29 09:22:07.477488: I tensorflow/core/common_runtime/pluggable_device/pluggable_device_factory.cc:305] Could not identify NUMA node of platform GPU ID 0, defaulting to 0. Your kernel may not have been built with NUMA support.\n",
      "2022-08-29 09:22:07.478233: I tensorflow/core/common_runtime/pluggable_device/pluggable_device_factory.cc:271] Created TensorFlow device (/job:localhost/replica:0/task:0/device:GPU:0 with 0 MB memory) -> physical PluggableDevice (device: 0, name: METAL, pci bus id: <undefined>)\n",
      "2022-08-29 09:22:07.553359: W tensorflow/core/platform/profile_utils/cpu_utils.cc:128] Failed to get CPU frequency: 0 Hz\n"
     ]
    },
    {
     "name": "stdout",
     "output_type": "stream",
     "text": [
      "Metal device set to: Apple M1\n",
      "\n",
      "systemMemory: 8.00 GB\n",
      "maxCacheSize: 2.67 GB\n",
      "\n"
     ]
    },
    {
     "name": "stderr",
     "output_type": "stream",
     "text": [
      "2022-08-29 09:22:07.748327: I tensorflow/core/grappler/optimizers/custom_graph_optimizer_registry.cc:113] Plugin optimizer for device_type GPU is enabled.\n",
      "2022-08-29 09:22:07.769040: I tensorflow/core/grappler/optimizers/custom_graph_optimizer_registry.cc:113] Plugin optimizer for device_type GPU is enabled.\n",
      "2022-08-29 09:22:08.066399: I tensorflow/core/grappler/optimizers/custom_graph_optimizer_registry.cc:113] Plugin optimizer for device_type GPU is enabled.\n"
     ]
    },
    {
     "name": "stdout",
     "output_type": "stream",
     "text": [
      "8/8 [==============================] - 0s 2ms/step\n",
      "\n",
      "% of correct winning team\n",
      "0.74\n",
      "\n",
      "Mean\n",
      "-0.018881867\n",
      "\n",
      "Standard Deviation\n",
      "0.1581235\n",
      "\n",
      "Total Profit\n",
      "-29.60000000000009\n"
     ]
    },
    {
     "name": "stderr",
     "output_type": "stream",
     "text": [
      "2022-08-29 09:22:12.913382: I tensorflow/core/grappler/optimizers/custom_graph_optimizer_registry.cc:113] Plugin optimizer for device_type GPU is enabled.\n"
     ]
    }
   ],
   "source": [
    "#Neural Network\n",
    "train_NN(feature_df)"
   ]
  },
  {
   "cell_type": "code",
   "execution_count": 24,
   "metadata": {},
   "outputs": [
    {
     "name": "stdout",
     "output_type": "stream",
     "text": [
      "\n",
      "% of correct winning team\n",
      "0.8\n",
      "\n",
      "Mean\n",
      "-0.0026008945\n",
      "\n",
      "Standard Deviation\n",
      "0.1547514\n",
      "\n",
      "Total Profit\n",
      "-18.199999999999992\n"
     ]
    }
   ],
   "source": [
    "#OLS\n",
    "get_lm_model(feature_df)"
   ]
  }
 ],
 "metadata": {
  "kernelspec": {
   "display_name": "Python 3.10.4 ('env_tf')",
   "language": "python",
   "name": "python3"
  },
  "language_info": {
   "codemirror_mode": {
    "name": "ipython",
    "version": 3
   },
   "file_extension": ".py",
   "mimetype": "text/x-python",
   "name": "python",
   "nbconvert_exporter": "python",
   "pygments_lexer": "ipython3",
   "version": "3.10.4"
  },
  "orig_nbformat": 4,
  "vscode": {
   "interpreter": {
    "hash": "7fabfb4dab905e6442ff44b83bc0fe2db5d93501037ec147ede1d02d4a789244"
   }
  }
 },
 "nbformat": 4,
 "nbformat_minor": 2
}
